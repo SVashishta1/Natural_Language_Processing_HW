{
  "nbformat": 4,
  "nbformat_minor": 0,
  "metadata": {
    "colab": {
      "provenance": []
    },
    "kernelspec": {
      "name": "python3",
      "display_name": "Python 3"
    },
    "language_info": {
      "name": "python"
    }
  },
  "cells": [
    {
      "cell_type": "code",
      "execution_count": 1,
      "metadata": {
        "colab": {
          "base_uri": "https://localhost:8080/"
        },
        "id": "41qaV87R2y0U",
        "outputId": "ed596578-79f0-4409-be51-df96b158c5d6"
      },
      "outputs": [
        {
          "output_type": "stream",
          "name": "stdout",
          "text": [
            "Requirement already satisfied: beautifulsoup4 in /usr/local/lib/python3.10/dist-packages (4.12.3)\n",
            "Requirement already satisfied: lxml in /usr/local/lib/python3.10/dist-packages (4.9.4)\n",
            "Requirement already satisfied: soupsieve>1.2 in /usr/local/lib/python3.10/dist-packages (from beautifulsoup4) (2.6)\n",
            "Requirement already satisfied: lxml in /usr/local/lib/python3.10/dist-packages (4.9.4)\n"
          ]
        }
      ],
      "source": [
        "!pip install beautifulsoup4 lxml # installing required libraries\n",
        "!pip install lxml"
      ]
    },
    {
      "cell_type": "code",
      "source": [
        "import urllib.request\n",
        "from bs4 import BeautifulSoup"
      ],
      "metadata": {
        "id": "QiJLPQQ_3vP_"
      },
      "execution_count": 2,
      "outputs": []
    },
    {
      "cell_type": "code",
      "source": [
        "url = \"https://pythonprogramming.net/parsememcparseface/\" # defining the url\n",
        "source = urllib.request.urlopen(url).read() # reading and storing html doc in source variable\n",
        "\n",
        "soup = BeautifulSoup(source, 'lxml') # creating soup object\n",
        "\n",
        "print(soup.title)\n",
        "print(f\"Page title: {soup.title.string}\") # printing title"
      ],
      "metadata": {
        "colab": {
          "base_uri": "https://localhost:8080/"
        },
        "id": "eryyq-2m4i4L",
        "outputId": "ae945f8f-4829-48ee-cfc1-309288d38c0f"
      },
      "execution_count": 3,
      "outputs": [
        {
          "output_type": "stream",
          "name": "stdout",
          "text": [
            "<title>Python Programming Tutorials</title>\n",
            "Page title: Python Programming Tutorials\n"
          ]
        }
      ]
    },
    {
      "cell_type": "code",
      "source": [
        "div = soup.find('div') # finding & printing single div tag, it's attributes\n",
        "print(div)\n",
        "print(div.attrs)"
      ],
      "metadata": {
        "colab": {
          "base_uri": "https://localhost:8080/"
        },
        "id": "2rNXvlM65FxU",
        "outputId": "6b3d9a7e-6a7c-4008-d94c-4a58fa5f818d"
      },
      "execution_count": 4,
      "outputs": [
        {
          "output_type": "stream",
          "name": "stdout",
          "text": [
            "<div class=\"navbar-fixed\">\n",
            "<nav style=\"background-color:#003F72\">\n",
            "<div class=\"nav-wrapper container\">\n",
            "<a class=\"brand-logo\" href=\"/\"><img class=\"img-responsive\" src=\"/static/images/mainlogowhitethick.jpg\" style=\"width:50px; height;50px; margin-top:5px\"/></a>\n",
            "<a class=\"button-collapse\" data-activates=\"navsidebar\" href=\"#\"><i class=\"mdi-navigation-menu\"></i></a>\n",
            "<ul class=\"right hide-on-med-and-down\">\n",
            "<li><i class=\"material-icons\">search</i></li>\n",
            "<li>\n",
            "<form action=\"/search/?l=hi\" id=\"searchform\" method=\"get\" style=\"height:50px; padding-top:10px\">\n",
            "<input id=\"search\" name=\"q\" placeholder=\"search\" style=\"font-size:16px\" type=\"search\"/>\n",
            "</form>\n",
            "</li>\n",
            "<li><a href=\"/\">Home</a></li>\n",
            "<li><a class=\"tooltipped\" data-delay=\"50\" data-position=\"bottom\" data-tooltip=\"sudo apt-get upgrade\" href=\"/+=1/\">+=1</a></li>\n",
            "<!--<li><a href=\"/store/python-hoodie/\">Store</a></li>-->\n",
            "<li><a href=\"/support/\">Support the Content</a></li>\n",
            "<li><a href=\"https://goo.gl/7zgAVQ\" target=\"blank\"><!--<i class=\"material-icons\">question_answer</i>-->Community</a></li>\n",
            "<li><a href=\"/login/\">Log in</a></li>\n",
            "<li><a href=\"/register/\">Sign up</a></li>\n",
            "</ul>\n",
            "<ul class=\"side-nav\" id=\"navsidebar\">\n",
            "<li>\n",
            "<form action=\"/search/?l=hi\" id=\"searchform\" method=\"get\" style=\"height:50px; padding-top:10px\">\n",
            "<input id=\"search\" name=\"q\" placeholder=\"search\" style=\"font-size:16px\" type=\"search\"/>\n",
            "</form>\n",
            "</li>\n",
            "<li><a href=\"/\">Home</a></li>\n",
            "<li><a class=\"tooltipped\" data-delay=\"50\" data-position=\"bottom\" data-tooltip=\"sudo apt-get upgrade\" href=\"/+=1/\">+=1</a></li>\n",
            "<!--<li><a href=\"/store/python-hoodie/\">Store</a></li>-->\n",
            "<li><a href=\"/support/\">Support the Content</a></li>\n",
            "<li><a href=\"https://goo.gl/7zgAVQ\" target=\"blank\"><!--<i class=\"material-icons\">question_answer</i>-->Community</a></li>\n",
            "<li><a href=\"/login/\">Log in</a></li>\n",
            "<li><a href=\"/register/\">Sign up</a></li>\n",
            "</ul>\n",
            "</div>\n",
            "</nav>\n",
            "</div>\n",
            "{'class': ['navbar-fixed']}\n"
          ]
        }
      ]
    },
    {
      "cell_type": "code",
      "source": [
        "a = soup.find('a') # printing single a tag attributes\n",
        "print(a)\n",
        "print(\"Attributes: \",a.attrs)"
      ],
      "metadata": {
        "colab": {
          "base_uri": "https://localhost:8080/"
        },
        "id": "r4XWnLl15g-9",
        "outputId": "d144ec33-7726-415e-a910-73626d15a939"
      },
      "execution_count": 5,
      "outputs": [
        {
          "output_type": "stream",
          "name": "stdout",
          "text": [
            "<a class=\"brand-logo\" href=\"/\"><img class=\"img-responsive\" src=\"/static/images/mainlogowhitethick.jpg\" style=\"width:50px; height;50px; margin-top:5px\"/></a>\n",
            "Attributes:  {'href': '/', 'class': ['brand-logo']}\n"
          ]
        }
      ]
    },
    {
      "cell_type": "code",
      "source": [
        "print(\"all paragraphs:\") # printing all p tag content (paragraphs)\n",
        "paragraphs = soup.find_all('p')\n",
        "for paragraph in paragraphs:\n",
        "    print(f\"Paragraph: {str(paragraph.text)}\")"
      ],
      "metadata": {
        "colab": {
          "base_uri": "https://localhost:8080/"
        },
        "id": "s2K670y68F1R",
        "outputId": "65b23155-e96b-4767-eb77-d60f5b4045a9"
      },
      "execution_count": 6,
      "outputs": [
        {
          "output_type": "stream",
          "name": "stdout",
          "text": [
            "all paragraphs:\n",
            "Paragraph: Oh, hello! This is a wonderful page meant to let you practice web scraping. This page was originally created to help people work with the Beautiful Soup 4 library.\n",
            "Paragraph: The following table gives some general information for the following programming languages:\n",
            "Paragraph: I think it's clear that, on a scale of 1-10, python is:\n",
            "Paragraph: Javascript (dynamic data) test:\n",
            "Paragraph: y u bad tho?\n",
            "Paragraph: Whᶐt hαppéns now¿\n",
            "Paragraph: sitemap\n",
            "Paragraph: Contact: Harrison@pythonprogramming.net.\n",
            "Paragraph: Programming is a superpower.\n"
          ]
        }
      ]
    },
    {
      "cell_type": "code",
      "source": [
        "print(\"all links:\") # printing all a tag content (urls)\n",
        "links = soup.find_all('a')\n",
        "for link in links:\n",
        "    href = link.get('href')\n",
        "    print(f\"Link: {href}\")"
      ],
      "metadata": {
        "colab": {
          "base_uri": "https://localhost:8080/"
        },
        "id": "ZNv3eQpH9idw",
        "outputId": "3e6e5c0e-f48c-4054-e76f-35708b9561d0"
      },
      "execution_count": 7,
      "outputs": [
        {
          "output_type": "stream",
          "name": "stdout",
          "text": [
            "all links:\n",
            "Link: /\n",
            "Link: #\n",
            "Link: /\n",
            "Link: /+=1/\n",
            "Link: /support/\n",
            "Link: https://goo.gl/7zgAVQ\n",
            "Link: /login/\n",
            "Link: /register/\n",
            "Link: /\n",
            "Link: /+=1/\n",
            "Link: /support/\n",
            "Link: https://goo.gl/7zgAVQ\n",
            "Link: /login/\n",
            "Link: /register/\n",
            "Link: https://www.crummy.com/software/BeautifulSoup/bs4/doc/\n",
            "Link: /sitemap.xml\n",
            "Link: /support-donate/\n",
            "Link: /consulting/\n",
            "Link: https://www.facebook.com/pythonprogramming.net/\n",
            "Link: https://twitter.com/sentdex\n",
            "Link: https://instagram.com/sentdex\n",
            "Link: /about/tos/\n",
            "Link: /about/privacy-policy/\n",
            "Link: https://xkcd.com/353/\n"
          ]
        }
      ]
    },
    {
      "cell_type": "code",
      "source": [
        "print(\"all text from the page: \") # extracting & printing just the text content\n",
        "page_text = soup.get_text()\n",
        "print(page_text)"
      ],
      "metadata": {
        "colab": {
          "base_uri": "https://localhost:8080/"
        },
        "id": "4J5MiYa4-pxj",
        "outputId": "beb69fb9-ef59-4081-edd8-992a81991d45"
      },
      "execution_count": 8,
      "outputs": [
        {
          "output_type": "stream",
          "name": "stdout",
          "text": [
            "all text from the page: \n",
            "\n",
            "\n",
            "\n",
            "\n",
            "Python Programming Tutorials\n",
            "\n",
            "\n",
            "\n",
            "\n",
            "\n",
            "\n",
            "\n",
            "\n",
            "\n",
            "\n",
            "\n",
            "\n",
            "\n",
            "\n",
            "\n",
            "\n",
            "\n",
            "\n",
            "\n",
            "\n",
            "\n",
            "\n",
            "\n",
            "search\n",
            "\n",
            "\n",
            "\n",
            "\n",
            "\n",
            "Home\n",
            "+=1\n",
            "\n",
            "Support the Content\n",
            "Community\n",
            "Log in\n",
            "Sign up\n",
            "\n",
            "\n",
            "\n",
            "\n",
            "\n",
            "\n",
            "\n",
            "Home\n",
            "+=1\n",
            "\n",
            "Support the Content\n",
            "Community\n",
            "Log in\n",
            "Sign up\n",
            "\n",
            "\n",
            "\n",
            "\n",
            "\n",
            "\n",
            "\n",
            "\n",
            "\n",
            "\n",
            "Oh, hello! This is a wonderful page meant to let you practice web scraping. This page was originally created to help people work with the Beautiful Soup 4 library.\n",
            "The following table gives some general information for the following programming languages:\n",
            "\n",
            "Python\n",
            "Pascal\n",
            "Lisp\n",
            "D#\n",
            "Cobol\n",
            "Fortran\n",
            "Haskell\n",
            "\n",
            "\n",
            "\n",
            "Program Name\n",
            "Internet Points\n",
            "Kittens?\n",
            "\n",
            "\n",
            "Python\n",
            "932914021\n",
            "Definitely\n",
            "\n",
            "\n",
            "Pascal\n",
            "532\n",
            "Unlikely\n",
            "\n",
            "\n",
            "Lisp\n",
            "1522\n",
            "Uncertain\n",
            "\n",
            "\n",
            "D#\n",
            "12\n",
            "Possibly\n",
            "\n",
            "\n",
            "Cobol\n",
            "3\n",
            "No.\n",
            "\n",
            "\n",
            "Fortran\n",
            "52124\n",
            "Yes.\n",
            "\n",
            "\n",
            "Haskell\n",
            "24\n",
            "lol.\n",
            "\n",
            "\n",
            "I think it's clear that, on a scale of 1-10, python is:\n",
            "\n",
            "\n",
            "\n",
            "\n",
            "\n",
            "\n",
            "Javascript (dynamic data) test:\n",
            "y u bad tho?\n",
            "\n",
            "\n",
            "Beautiful is better than ugly.\n",
            "Explicit is better than implicit.\n",
            "Simple is better than complex.\n",
            "Complex is better than complicated.\n",
            "Flat is better than nested.\n",
            "Sparse is better than dense.\n",
            "Readability counts.\n",
            "Special cases aren't special enough to break the rules.\n",
            "Although practicality beats purity.\n",
            "Errors should never pass silently.\n",
            "Unless explicitly silenced.\n",
            "In the face of ambiguity, refuse the temptation to guess.\n",
            "There should be one-- and preferably only one --obvious way to do it.\n",
            "Although that way may not be obvious at first unless you're Dutch.\n",
            "Now is better than never.\n",
            "Although never is often better than *right* now.\n",
            "If the implementation is hard to explain, it's a bad idea.\n",
            "If the implementation is easy to explain, it may be a good idea.\n",
            "Namespaces are one honking great idea -- let's do more of those!\n",
            "Whᶐt hαppéns now¿\n",
            "sitemap\n",
            "\n",
            "\n",
            "\n",
            "\n",
            "\n",
            "\n",
            "\n",
            "\n",
            "\n",
            "\n",
            "\n",
            "You've reached the end!\n",
            "Contact: Harrison@pythonprogramming.net.\n",
            "\n",
            "Support this Website!\n",
            "Consulting and Contracting\n",
            "Facebook\n",
            "Twitter\n",
            "Instagram\n",
            "\n",
            "\n",
            "\n",
            "Legal stuff:\n",
            "\n",
            "Terms and Conditions\n",
            "Privacy Policy\n",
            "\n",
            "\n",
            "\n",
            "\n",
            "Programming is a superpower.\n",
            "\n",
            "\n",
            "            © OVER 9000! PythonProgramming.net\n",
            "\n",
            "            \n",
            "\n",
            "\n",
            "\n",
            "\n"
          ]
        }
      ]
    }
  ]
}