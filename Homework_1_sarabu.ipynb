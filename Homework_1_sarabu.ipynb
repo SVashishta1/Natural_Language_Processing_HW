{
  "nbformat": 4,
  "nbformat_minor": 0,
  "metadata": {
    "colab": {
      "provenance": []
    },
    "kernelspec": {
      "name": "python3",
      "display_name": "Python 3"
    },
    "language_info": {
      "name": "python"
    }
  },
  "cells": [
    {
      "cell_type": "markdown",
      "source": [
        "[1] Which of the following is not an application of NLP?\n",
        "a. Image labeling\n",
        "b. Poetry generation\n",
        "c. Sentimental analysis\n",
        "d. E-mail classification\n",
        "\n",
        "Ans= a. Image labeling"
      ],
      "metadata": {
        "id": "RdYIMz_OT7al"
      }
    },
    {
      "cell_type": "markdown",
      "source": [
        "[2] Which of the following is not an NLP task?\n",
        "a. Tokenization\n",
        "b. Stop word removal\n",
        "c. Part-of-speech tagging\n",
        "d. Image segmentation\n",
        "\n",
        "Ans= d. Image segmentation\n"
      ],
      "metadata": {
        "id": "PwRcr62RT_3F"
      }
    },
    {
      "cell_type": "markdown",
      "source": [
        "[3] Which of the following is not a disadvantage of rule-based approaches for NLP?\n",
        "a. Not flexible\n",
        "b. Not scalable\n",
        "c. Requires huge dataset\n",
        "d. None of the above\n",
        "\n",
        "Ans= c. Requires huge dataset"
      ],
      "metadata": {
        "id": "I-TnQlXIUCuE"
      }
    },
    {
      "cell_type": "markdown",
      "source": [
        "[4] What are the two major types of NLP approaches?\n",
        "Ans:\n",
        "\n",
        "1. Rule based NLP\n",
        "2. Statistical NLP"
      ],
      "metadata": {
        "id": "Osu5B94MUEJP"
      }
    },
    {
      "cell_type": "markdown",
      "source": [
        "Translation"
      ],
      "metadata": {
        "id": "E6OVuCgMQFxm"
      }
    },
    {
      "cell_type": "code",
      "source": [
        "!pip install googletrans==4.0.0-rc1 # installing the library\n"
      ],
      "metadata": {
        "colab": {
          "base_uri": "https://localhost:8080/"
        },
        "id": "KYLl-ui6Rrgb",
        "outputId": "d37437d7-7f65-4db0-fdd4-64bae90ad304"
      },
      "execution_count": 7,
      "outputs": [
        {
          "output_type": "stream",
          "name": "stdout",
          "text": [
            "Requirement already satisfied: googletrans==4.0.0-rc1 in /usr/local/lib/python3.10/dist-packages (4.0.0rc1)\n",
            "Requirement already satisfied: httpx==0.13.3 in /usr/local/lib/python3.10/dist-packages (from googletrans==4.0.0-rc1) (0.13.3)\n",
            "Requirement already satisfied: certifi in /usr/local/lib/python3.10/dist-packages (from httpx==0.13.3->googletrans==4.0.0-rc1) (2024.8.30)\n",
            "Requirement already satisfied: hstspreload in /usr/local/lib/python3.10/dist-packages (from httpx==0.13.3->googletrans==4.0.0-rc1) (2024.9.1)\n",
            "Requirement already satisfied: sniffio in /usr/local/lib/python3.10/dist-packages (from httpx==0.13.3->googletrans==4.0.0-rc1) (1.3.1)\n",
            "Requirement already satisfied: chardet==3.* in /usr/local/lib/python3.10/dist-packages (from httpx==0.13.3->googletrans==4.0.0-rc1) (3.0.4)\n",
            "Requirement already satisfied: idna==2.* in /usr/local/lib/python3.10/dist-packages (from httpx==0.13.3->googletrans==4.0.0-rc1) (2.10)\n",
            "Requirement already satisfied: rfc3986<2,>=1.3 in /usr/local/lib/python3.10/dist-packages (from httpx==0.13.3->googletrans==4.0.0-rc1) (1.5.0)\n",
            "Requirement already satisfied: httpcore==0.9.* in /usr/local/lib/python3.10/dist-packages (from httpx==0.13.3->googletrans==4.0.0-rc1) (0.9.1)\n",
            "Requirement already satisfied: h11<0.10,>=0.8 in /usr/local/lib/python3.10/dist-packages (from httpcore==0.9.*->httpx==0.13.3->googletrans==4.0.0-rc1) (0.9.0)\n",
            "Requirement already satisfied: h2==3.* in /usr/local/lib/python3.10/dist-packages (from httpcore==0.9.*->httpx==0.13.3->googletrans==4.0.0-rc1) (3.2.0)\n",
            "Requirement already satisfied: hyperframe<6,>=5.2.0 in /usr/local/lib/python3.10/dist-packages (from h2==3.*->httpcore==0.9.*->httpx==0.13.3->googletrans==4.0.0-rc1) (5.2.0)\n",
            "Requirement already satisfied: hpack<4,>=3.0 in /usr/local/lib/python3.10/dist-packages (from h2==3.*->httpcore==0.9.*->httpx==0.13.3->googletrans==4.0.0-rc1) (3.0.0)\n"
          ]
        }
      ]
    },
    {
      "cell_type": "code",
      "source": [
        "\"\"\"!pip install -U textblob\n",
        "!python -m textblob.download_corpora\n",
        "\n",
        "\n",
        "from textblob import TextBlob\n",
        "\n",
        "# Define the sentence\n",
        "sentence = TextBlob(\"Who knew translation could be fun\")\n",
        "\n",
        "# Translate into French, Mandarin, and Hindi\n",
        "french_translation = str(sentence.translate(to='fr'))\n",
        "mandarin_translation = sentence.translate(to='zh-CN')\n",
        "hindi_translation = sentence.translate(to='hi')\n",
        "\n",
        "# Print the translations\n",
        "print(f\"French: {french_translation}\")\n",
        "print(f\"Mandarin: {mandarin_translation}\")\n",
        "print(f\"Hindi: {hindi_translation}\")\"\"\"\n",
        "\n",
        "\n",
        "# I'm not using Textblob because \"Translate methods are deprecated in textblob\"\n",
        "# and the error is : 'TextBlob' object has no attribute 'translate'\n",
        "# instead I'm using GoogleTranslator library\n",
        "\n",
        "from googletrans import Translator\n",
        "\n",
        "\n",
        "translator = Translator() # initializing the Translator object\n",
        "\n",
        "\n",
        "sentence = \"Who knew translation could be fun\" # text to translate\n",
        "\n",
        "french_text = translator.translate(sentence, dest='fr') # translating\n",
        "Mandrin_text = translator.translate(sentence, dest='zh-CN')\n",
        "hindi_text = translator.translate(sentence, dest='hi')\n",
        "\n",
        "print(\"French:\", french_text.text)\n",
        "print(\"Mandarin:\", Mandrin_text.text)\n",
        "print(\"Hindi:\", hindi_text.text)\n",
        "\n"
      ],
      "metadata": {
        "colab": {
          "base_uri": "https://localhost:8080/"
        },
        "id": "obKgsMH3gkON",
        "outputId": "7bb858c9-2217-49ca-fea0-a3299cf15676"
      },
      "execution_count": 8,
      "outputs": [
        {
          "output_type": "stream",
          "name": "stdout",
          "text": [
            "French: Qui savait que la traduction pouvait être amusante\n",
            "Mandarin: 谁知道翻译可能很有趣\n",
            "Hindi: कौन जानता था कि अनुवाद मजेदार हो सकता है\n"
          ]
        }
      ]
    },
    {
      "cell_type": "code",
      "source": [
        "\n"
      ],
      "metadata": {
        "id": "5UL1sGbYgpLh"
      },
      "execution_count": 8,
      "outputs": []
    },
    {
      "cell_type": "code",
      "source": [],
      "metadata": {
        "id": "SGn2YT4HjCsv"
      },
      "execution_count": 8,
      "outputs": []
    },
    {
      "cell_type": "code",
      "source": [
        "\n"
      ],
      "metadata": {
        "id": "UlMeN1RDkvok"
      },
      "execution_count": 8,
      "outputs": []
    }
  ]
}